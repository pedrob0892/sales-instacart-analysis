{
 "cells": [
  {
   "cell_type": "markdown",
   "id": "db2cef6a-b434-4aad-9561-dbf2fcd02457",
   "metadata": {},
   "source": [
    "# Visão geral dos dados"
   ]
  },
  {
   "cell_type": "code",
   "execution_count": 104,
   "id": "9fd8e0d9-b0ee-4d93-9c66-9c18f0efee90",
   "metadata": {},
   "outputs": [],
   "source": [
    "# Importando bibliotecas\n",
    "import pandas as pd\n",
    "import seaborn as sns\n",
    "import matplotlib.pyplot as plt"
   ]
  },
  {
   "cell_type": "code",
   "execution_count": 105,
   "id": "786389f1-6cc5-446f-8b07-38697f20a124",
   "metadata": {},
   "outputs": [],
   "source": [
    "# Lendo os dataframes\n",
    "df_orders = pd.read_csv(r\"C:\\Users\\pedro\\Documents\\Dataframes projetos\\instacart-analysis\\instacart_orders.csv\", sep=';')\n",
    "df_products = pd.read_csv(r\"C:\\Users\\pedro\\Documents\\Dataframes projetos\\instacart-analysis\\products.csv\", sep=';')\n",
    "df_aisles = pd.read_csv(r\"C:\\Users\\pedro\\Documents\\Dataframes projetos\\instacart-analysis\\aisles.csv\", sep=';')\n",
    "df_departments = pd.read_csv(r\"C:\\Users\\pedro\\Documents\\Dataframes projetos\\instacart-analysis\\departments.csv\", sep=';')\n",
    "df_order_products = pd.read_csv(r\"C:\\Users\\pedro\\Documents\\Dataframes projetos\\instacart-analysis\\order_products.csv\", sep=';')"
   ]
  },
  {
   "cell_type": "code",
   "execution_count": 108,
   "id": "c49d6a7a-834b-4f82-a30a-0407a312eef8",
   "metadata": {},
   "outputs": [
    {
     "name": "stdout",
     "output_type": "stream",
     "text": [
      "<class 'pandas.core.frame.DataFrame'>\n",
      "RangeIndex: 478967 entries, 0 to 478966\n",
      "Data columns (total 6 columns):\n",
      " #   Column                  Non-Null Count   Dtype  \n",
      "---  ------                  --------------   -----  \n",
      " 0   order_id                478967 non-null  int64  \n",
      " 1   user_id                 478967 non-null  int64  \n",
      " 2   order_number            478967 non-null  int64  \n",
      " 3   order_dow               478967 non-null  int64  \n",
      " 4   order_hour_of_day       478967 non-null  int64  \n",
      " 5   days_since_prior_order  450148 non-null  float64\n",
      "dtypes: float64(1), int64(5)\n",
      "memory usage: 21.9 MB\n"
     ]
    }
   ],
   "source": [
    "df_orders.info()"
   ]
  },
  {
   "cell_type": "code",
   "execution_count": 5,
   "id": "42a59dd0-cdf7-435a-9554-bc496b246ad1",
   "metadata": {},
   "outputs": [
    {
     "name": "stdout",
     "output_type": "stream",
     "text": [
      "<class 'pandas.core.frame.DataFrame'>\n",
      "RangeIndex: 49694 entries, 0 to 49693\n",
      "Data columns (total 4 columns):\n",
      " #   Column         Non-Null Count  Dtype \n",
      "---  ------         --------------  ----- \n",
      " 0   product_id     49694 non-null  int64 \n",
      " 1   product_name   48436 non-null  object\n",
      " 2   aisle_id       49694 non-null  int64 \n",
      " 3   department_id  49694 non-null  int64 \n",
      "dtypes: int64(3), object(1)\n",
      "memory usage: 1.5+ MB\n"
     ]
    }
   ],
   "source": [
    "df_products.info()"
   ]
  },
  {
   "cell_type": "code",
   "execution_count": 6,
   "id": "9e444e48-af52-4ff2-a6e2-a0b149950b9a",
   "metadata": {},
   "outputs": [
    {
     "name": "stdout",
     "output_type": "stream",
     "text": [
      "<class 'pandas.core.frame.DataFrame'>\n",
      "RangeIndex: 134 entries, 0 to 133\n",
      "Data columns (total 2 columns):\n",
      " #   Column    Non-Null Count  Dtype \n",
      "---  ------    --------------  ----- \n",
      " 0   aisle_id  134 non-null    int64 \n",
      " 1   aisle     134 non-null    object\n",
      "dtypes: int64(1), object(1)\n",
      "memory usage: 2.2+ KB\n"
     ]
    }
   ],
   "source": [
    "df_aisles.info()"
   ]
  },
  {
   "cell_type": "code",
   "execution_count": 7,
   "id": "49bdc55f-84dc-4da9-98dd-d5dad8aa3266",
   "metadata": {},
   "outputs": [
    {
     "name": "stdout",
     "output_type": "stream",
     "text": [
      "<class 'pandas.core.frame.DataFrame'>\n",
      "RangeIndex: 21 entries, 0 to 20\n",
      "Data columns (total 2 columns):\n",
      " #   Column         Non-Null Count  Dtype \n",
      "---  ------         --------------  ----- \n",
      " 0   department_id  21 non-null     int64 \n",
      " 1   department     21 non-null     object\n",
      "dtypes: int64(1), object(1)\n",
      "memory usage: 468.0+ bytes\n"
     ]
    }
   ],
   "source": [
    "df_departments.info()"
   ]
  },
  {
   "cell_type": "code",
   "execution_count": 8,
   "id": "8f01cd08-d467-47d5-b71c-5005f32c3171",
   "metadata": {},
   "outputs": [
    {
     "name": "stdout",
     "output_type": "stream",
     "text": [
      "<class 'pandas.core.frame.DataFrame'>\n",
      "RangeIndex: 4545007 entries, 0 to 4545006\n",
      "Data columns (total 4 columns):\n",
      " #   Column             Dtype  \n",
      "---  ------             -----  \n",
      " 0   order_id           int64  \n",
      " 1   product_id         int64  \n",
      " 2   add_to_cart_order  float64\n",
      " 3   reordered          int64  \n",
      "dtypes: float64(1), int64(3)\n",
      "memory usage: 138.7 MB\n"
     ]
    }
   ],
   "source": [
    "df_order_products.info()"
   ]
  },
  {
   "cell_type": "markdown",
   "id": "78360e16-6ad2-47c2-a213-b82585607f16",
   "metadata": {},
   "source": [
    "# Preparando os dados"
   ]
  },
  {
   "cell_type": "markdown",
   "id": "5e316b49-80b4-4160-b9d2-ab2f905338c4",
   "metadata": {},
   "source": [
    "### DataFrame `orders`"
   ]
  },
  {
   "cell_type": "code",
   "execution_count": 11,
   "id": "76e7838d-4615-4ba9-91c1-4a79e42d3513",
   "metadata": {},
   "outputs": [
    {
     "name": "stdout",
     "output_type": "stream",
     "text": [
      "15\n"
     ]
    }
   ],
   "source": [
    "# Verificando valores duplicados\n",
    "print(df_orders.duplicated().sum())"
   ]
  },
  {
   "cell_type": "code",
   "execution_count": 12,
   "id": "1d8d5e9d-89fa-4777-a059-00b740521a48",
   "metadata": {},
   "outputs": [],
   "source": [
    "# Removento duplicados\n",
    "df_orders = df_orders.drop_duplicates()"
   ]
  },
  {
   "cell_type": "code",
   "execution_count": 13,
   "id": "827a73a2-62e0-4422-9932-bece7a3b1061",
   "metadata": {},
   "outputs": [
    {
     "name": "stdout",
     "output_type": "stream",
     "text": [
      "0\n"
     ]
    }
   ],
   "source": [
    "# Verificando as linhas duplicadas mais uma vez\n",
    "print(df_orders.duplicated().sum())"
   ]
  },
  {
   "cell_type": "code",
   "execution_count": 14,
   "id": "642f5cdc-44c0-4f20-8b5d-a1530b431f63",
   "metadata": {},
   "outputs": [
    {
     "name": "stdout",
     "output_type": "stream",
     "text": [
      "order_id                      0\n",
      "user_id                       0\n",
      "order_number                  0\n",
      "order_dow                     0\n",
      "order_hour_of_day             0\n",
      "days_since_prior_order    28817\n",
      "dtype: int64\n"
     ]
    }
   ],
   "source": [
    "# Veriricando valores ausentes\n",
    "print(df_orders.isna().sum())"
   ]
  },
  {
   "cell_type": "markdown",
   "id": "c6300e3b-2f66-4186-ac14-95db99a01307",
   "metadata": {},
   "source": [
    "<span style=\"color: black; font-family: Arial; font-size: 20px;\">\n",
    "Existem valores ausentes apenas na coluna 'days_since_prior_order'."
   ]
  },
  {
   "cell_type": "markdown",
   "id": "b3787345-9416-477a-a1e1-40eb2261c259",
   "metadata": {},
   "source": [
    "### DataFrame `products`"
   ]
  },
  {
   "cell_type": "code",
   "execution_count": 19,
   "id": "278e0b29-4542-4f14-afca-06ec80c33552",
   "metadata": {},
   "outputs": [
    {
     "name": "stdout",
     "output_type": "stream",
     "text": [
      "0\n"
     ]
    }
   ],
   "source": [
    "# Verificando valores duplicados\n",
    "print(df_products.duplicated().sum())"
   ]
  },
  {
   "cell_type": "code",
   "execution_count": 135,
   "id": "6ba5ba18-66db-4220-8952-7d5abb9d86c6",
   "metadata": {},
   "outputs": [
    {
     "name": "stdout",
     "output_type": "stream",
     "text": [
      "product_id          0\n",
      "product_name     1258\n",
      "aisle_id            0\n",
      "department_id       0\n",
      "dtype: int64\n"
     ]
    }
   ],
   "source": [
    "# Veriricando valores ausentes\n",
    "print(df_products.isna().sum())"
   ]
  },
  {
   "cell_type": "code",
   "execution_count": 137,
   "id": "08f70a01-d287-4f34-a70f-182c09592303",
   "metadata": {},
   "outputs": [
    {
     "data": {
      "text/html": [
       "<div>\n",
       "<style scoped>\n",
       "    .dataframe tbody tr th:only-of-type {\n",
       "        vertical-align: middle;\n",
       "    }\n",
       "\n",
       "    .dataframe tbody tr th {\n",
       "        vertical-align: top;\n",
       "    }\n",
       "\n",
       "    .dataframe thead th {\n",
       "        text-align: right;\n",
       "    }\n",
       "</style>\n",
       "<table border=\"1\" class=\"dataframe\">\n",
       "  <thead>\n",
       "    <tr style=\"text-align: right;\">\n",
       "      <th></th>\n",
       "      <th>product_id</th>\n",
       "      <th>product_name</th>\n",
       "      <th>aisle_id</th>\n",
       "      <th>department_id</th>\n",
       "    </tr>\n",
       "  </thead>\n",
       "  <tbody>\n",
       "    <tr>\n",
       "      <th>2058</th>\n",
       "      <td>2059</td>\n",
       "      <td>Biotin 1000 Mcg</td>\n",
       "      <td>47</td>\n",
       "      <td>11</td>\n",
       "    </tr>\n",
       "    <tr>\n",
       "      <th>5455</th>\n",
       "      <td>5456</td>\n",
       "      <td>Green Tea With Ginseng and Honey</td>\n",
       "      <td>96</td>\n",
       "      <td>20</td>\n",
       "    </tr>\n",
       "    <tr>\n",
       "      <th>5558</th>\n",
       "      <td>5559</td>\n",
       "      <td>Cream Of Mushroom Soup</td>\n",
       "      <td>69</td>\n",
       "      <td>15</td>\n",
       "    </tr>\n",
       "    <tr>\n",
       "      <th>7558</th>\n",
       "      <td>7559</td>\n",
       "      <td>Cinnamon Rolls with Icing</td>\n",
       "      <td>105</td>\n",
       "      <td>13</td>\n",
       "    </tr>\n",
       "    <tr>\n",
       "      <th>9037</th>\n",
       "      <td>9038</td>\n",
       "      <td>American Cheese slices</td>\n",
       "      <td>21</td>\n",
       "      <td>16</td>\n",
       "    </tr>\n",
       "    <tr>\n",
       "      <th>...</th>\n",
       "      <td>...</td>\n",
       "      <td>...</td>\n",
       "      <td>...</td>\n",
       "      <td>...</td>\n",
       "    </tr>\n",
       "    <tr>\n",
       "      <th>49689</th>\n",
       "      <td>49690</td>\n",
       "      <td>HIGH PERFORMANCE ENERGY DRINK</td>\n",
       "      <td>64</td>\n",
       "      <td>7</td>\n",
       "    </tr>\n",
       "    <tr>\n",
       "      <th>49690</th>\n",
       "      <td>49691</td>\n",
       "      <td>ORIGINAL PANCAKE &amp; WAFFLE MIX</td>\n",
       "      <td>130</td>\n",
       "      <td>14</td>\n",
       "    </tr>\n",
       "    <tr>\n",
       "      <th>49691</th>\n",
       "      <td>49692</td>\n",
       "      <td>ORGANIC INSTANT OATMEAL LIGHT MAPLE BROWN SUGAR</td>\n",
       "      <td>130</td>\n",
       "      <td>14</td>\n",
       "    </tr>\n",
       "    <tr>\n",
       "      <th>49692</th>\n",
       "      <td>49693</td>\n",
       "      <td>SPRING WATER BODY WASH</td>\n",
       "      <td>127</td>\n",
       "      <td>11</td>\n",
       "    </tr>\n",
       "    <tr>\n",
       "      <th>49693</th>\n",
       "      <td>49694</td>\n",
       "      <td>BURRITO- STEAK &amp; CHEESE</td>\n",
       "      <td>38</td>\n",
       "      <td>1</td>\n",
       "    </tr>\n",
       "  </tbody>\n",
       "</table>\n",
       "<p>104 rows × 4 columns</p>\n",
       "</div>"
      ],
      "text/plain": [
       "       product_id                                     product_name  aisle_id  \\\n",
       "2058         2059                                  Biotin 1000 Mcg        47   \n",
       "5455         5456                 Green Tea With Ginseng and Honey        96   \n",
       "5558         5559                           Cream Of Mushroom Soup        69   \n",
       "7558         7559                        Cinnamon Rolls with Icing       105   \n",
       "9037         9038                           American Cheese slices        21   \n",
       "...           ...                                              ...       ...   \n",
       "49689       49690                    HIGH PERFORMANCE ENERGY DRINK        64   \n",
       "49690       49691                    ORIGINAL PANCAKE & WAFFLE MIX       130   \n",
       "49691       49692  ORGANIC INSTANT OATMEAL LIGHT MAPLE BROWN SUGAR       130   \n",
       "49692       49693                           SPRING WATER BODY WASH       127   \n",
       "49693       49694                          BURRITO- STEAK & CHEESE        38   \n",
       "\n",
       "       department_id  \n",
       "2058              11  \n",
       "5455              20  \n",
       "5558              15  \n",
       "7558              13  \n",
       "9037              16  \n",
       "...              ...  \n",
       "49689              7  \n",
       "49690             14  \n",
       "49691             14  \n",
       "49692             11  \n",
       "49693              1  \n",
       "\n",
       "[104 rows x 4 columns]"
      ]
     },
     "execution_count": 137,
     "metadata": {},
     "output_type": "execute_result"
    }
   ],
   "source": [
    "# Verificando os nomes de produtos duplicados que não estão faltando\n",
    "df_products[~(df_products['product_name'].isna()) & (df_products['product_name'].str.lower().duplicated())]"
   ]
  },
  {
   "cell_type": "code",
   "execution_count": 24,
   "id": "19a942cc-a2ba-4a8a-bd20-a5c09aa661f2",
   "metadata": {},
   "outputs": [
    {
     "name": "stdout",
     "output_type": "stream",
     "text": [
      "product_name\n",
      "NaN                                      1258\n",
      "Chocolate Sandwich Cookies                  1\n",
      "Krinkle Cut Carolina BBQ Potato Chips       1\n",
      "Fresh Ground Turkey- 85% Lean/15% Fat       1\n",
      "Organic Unsweetened Ketchup                 1\n",
      "                                         ... \n",
      "Organic Fresh Carrot Chips                  1\n",
      "Unbleached Jumbo Baking Cups                1\n",
      "Super Glue Gel Control                      1\n",
      "3 Cheese Ravioli                            1\n",
      "BURRITO- STEAK & CHEESE                     1\n",
      "Name: count, Length: 48437, dtype: int64\n"
     ]
    }
   ],
   "source": [
    "# Encontrando valores ausentes na coluna 'product_name'\n",
    "print(df_products['product_name'].value_counts(dropna=False))"
   ]
  },
  {
   "cell_type": "markdown",
   "id": "4b2ea97f-cb27-438f-a4b9-5b647abc66be",
   "metadata": {},
   "source": [
    "<span style=\"color: black; font-family: Arial; font-size: 20px;\">\n",
    "Existem 1258 valores ausentes"
   ]
  },
  {
   "cell_type": "markdown",
   "id": "6f1b9364-e7a8-4cae-bce4-b458a8b82d4d",
   "metadata": {},
   "source": [
    "<span style=\"color: blue; font-family: Arial; font-size: 20px;\">\n",
    "Todos os nomes de produtos ausentes estão associados com o corredor de ID 100?"
   ]
  },
  {
   "cell_type": "code",
   "execution_count": 27,
   "id": "d648414d-48d4-4893-a7e8-a744724468a7",
   "metadata": {},
   "outputs": [
    {
     "data": {
      "text/plain": [
       "array([100], dtype=int64)"
      ]
     },
     "execution_count": 27,
     "metadata": {},
     "output_type": "execute_result"
    }
   ],
   "source": [
    "dfr=df_products[df_products['product_name'].isna()]\n",
    "dfr['aisle_id'].unique()"
   ]
  },
  {
   "cell_type": "markdown",
   "id": "ea287804-2d0d-4b6d-81c5-a3c1e754d888",
   "metadata": {},
   "source": [
    "<span style=\"color: black; font-family: Arial; font-size: 20px;\">\n",
    "Sim, todos os nomes de produtos ausentes estão associados com o corredor de ID 100"
   ]
  },
  {
   "cell_type": "markdown",
   "id": "90f8baa1-10a3-4189-a941-8835f9dec7a8",
   "metadata": {},
   "source": [
    "<span style=\"color: blue; font-family: Arial; font-size: 20px;\">\n",
    "Todos os nomes de produtos ausentes estão associados com o departamento de ID 21?"
   ]
  },
  {
   "cell_type": "code",
   "execution_count": 30,
   "id": "5eb92dee-f4fe-43d5-8c16-7aaf97ff412e",
   "metadata": {},
   "outputs": [
    {
     "name": "stdout",
     "output_type": "stream",
     "text": [
      "37       21\n",
      "71       21\n",
      "109      21\n",
      "296      21\n",
      "416      21\n",
      "         ..\n",
      "49552    21\n",
      "49574    21\n",
      "49640    21\n",
      "49663    21\n",
      "49668    21\n",
      "Name: department_id, Length: 1258, dtype: int64\n"
     ]
    }
   ],
   "source": [
    "dfrt = dfr[dfr['aisle_id']==100]['department_id']\n",
    "print(dfrt)"
   ]
  },
  {
   "cell_type": "markdown",
   "id": "55e0dcaf-90b2-435a-84f6-e1d8a94b5414",
   "metadata": {},
   "source": [
    "<span style=\"color: black; font-family: Arial; font-size: 20px;\">\n",
    "Todos os nomes de produtos ausentes estão associados com o departamento de ID 21."
   ]
  },
  {
   "cell_type": "markdown",
   "id": "8f28f687-b3b2-48bd-804e-dbdd8323afc9",
   "metadata": {},
   "source": [
    "<span style=\"color: blue; font-family: Arial; font-size: 20px;\">\n",
    "Preencha nomes de produtos ausentes com 'Unknown'"
   ]
  },
  {
   "cell_type": "code",
   "execution_count": 145,
   "id": "94888950-1745-43f4-a118-41fec8f825ca",
   "metadata": {},
   "outputs": [],
   "source": [
    "df_products['product_name'] = df_products['product_name'].fillna('Unknown')"
   ]
  },
  {
   "cell_type": "markdown",
   "id": "9205f180-56d3-4ad0-aac4-e4262d87879e",
   "metadata": {},
   "source": [
    "### DataFrame `departments`"
   ]
  },
  {
   "cell_type": "code",
   "execution_count": 148,
   "id": "429679d4-fdf4-46a7-9474-bfd6339823e1",
   "metadata": {},
   "outputs": [
    {
     "name": "stdout",
     "output_type": "stream",
     "text": [
      "0\n"
     ]
    }
   ],
   "source": [
    "# Verificando valores duplicados\n",
    "print(df_departments.duplicated().sum())"
   ]
  },
  {
   "cell_type": "code",
   "execution_count": 150,
   "id": "afe9d4f5-159e-4f22-9437-731058f71d87",
   "metadata": {},
   "outputs": [
    {
     "name": "stdout",
     "output_type": "stream",
     "text": [
      "department_id    0\n",
      "department       0\n",
      "dtype: int64\n"
     ]
    }
   ],
   "source": [
    "# Verificando valores ausentes\n",
    "print(df_departments.isna().sum())"
   ]
  },
  {
   "cell_type": "markdown",
   "id": "af412571-6baf-4063-8d0a-052552a36626",
   "metadata": {},
   "source": [
    "### DataFrame `aisles`"
   ]
  },
  {
   "cell_type": "code",
   "execution_count": 152,
   "id": "c840e8f4-52dd-4a53-8af3-f07d39891585",
   "metadata": {},
   "outputs": [
    {
     "name": "stdout",
     "output_type": "stream",
     "text": [
      "0\n"
     ]
    }
   ],
   "source": [
    "# Verificando valores duplicados\n",
    "print(df_aisles.duplicated().sum())"
   ]
  },
  {
   "cell_type": "code",
   "execution_count": 154,
   "id": "a59970c2-2cc0-493c-9b02-d01294964d03",
   "metadata": {},
   "outputs": [
    {
     "name": "stdout",
     "output_type": "stream",
     "text": [
      "aisle_id    0\n",
      "aisle       0\n",
      "dtype: int64\n"
     ]
    }
   ],
   "source": [
    "# Verificando valores ausentes\n",
    "print(df_aisles.isna().sum())"
   ]
  },
  {
   "cell_type": "markdown",
   "id": "93a2fa51-e8d7-4ef4-aca2-7d2c7834d218",
   "metadata": {},
   "source": [
    "### DataFrame `order_products`"
   ]
  },
  {
   "cell_type": "code",
   "execution_count": 43,
   "id": "01dc33cf-43b2-4cf2-bf5b-f6980a197cb6",
   "metadata": {},
   "outputs": [
    {
     "name": "stdout",
     "output_type": "stream",
     "text": [
      "0\n"
     ]
    }
   ],
   "source": [
    "# Verificando valores duplicados\n",
    "print(df_order_products.duplicated().sum())"
   ]
  },
  {
   "cell_type": "code",
   "execution_count": 44,
   "id": "6a645ee8-3790-49fc-8ed9-b78c6b074ed7",
   "metadata": {},
   "outputs": [
    {
     "name": "stdout",
     "output_type": "stream",
     "text": [
      "order_id               0\n",
      "product_id             0\n",
      "add_to_cart_order    836\n",
      "reordered              0\n",
      "dtype: int64\n"
     ]
    }
   ],
   "source": [
    "# Verificando valores ausentes\n",
    "print(df_order_products.isna().sum())"
   ]
  },
  {
   "cell_type": "markdown",
   "id": "6cdb131b-dddc-4957-926a-c4eb6cf6262c",
   "metadata": {},
   "source": [
    "<span style=\"color: blue; font-family: Arial; font-size: 20px;\">\n",
    "Substitua valores ausentes na coluna 'add_to_cart_order' por 999 e converta a coluna para o tipo integer"
   ]
  },
  {
   "cell_type": "code",
   "execution_count": 162,
   "id": "ec4257ec-8637-41ac-9651-5790cb0a69cb",
   "metadata": {},
   "outputs": [
    {
     "name": "stdout",
     "output_type": "stream",
     "text": [
      "         order_id  product_id  add_to_cart_order  reordered\n",
      "0         2141543       11440                 17          0\n",
      "1          567889        1560                  1          1\n",
      "2         2261212       26683                  1          1\n",
      "3          491251        8670                 35          1\n",
      "4         2571142        1940                  5          1\n",
      "...           ...         ...                ...        ...\n",
      "4545002    577211       15290                 12          1\n",
      "4545003   1219554       21914                  9          0\n",
      "4545004    692640       47766                  4          1\n",
      "4545005    319435         691                  8          1\n",
      "4545006   1398151       28733                  9          0\n",
      "\n",
      "[4545007 rows x 4 columns]\n",
      "\n",
      "<class 'pandas.core.frame.DataFrame'>\n",
      "RangeIndex: 4545007 entries, 0 to 4545006\n",
      "Data columns (total 4 columns):\n",
      " #   Column             Dtype\n",
      "---  ------             -----\n",
      " 0   order_id           int64\n",
      " 1   product_id         int64\n",
      " 2   add_to_cart_order  int32\n",
      " 3   reordered          int64\n",
      "dtypes: int32(1), int64(3)\n",
      "memory usage: 121.4 MB\n"
     ]
    }
   ],
   "source": [
    "df_order_products['add_to_cart_order'] = df_order_products['add_to_cart_order'].fillna(999)\n",
    "df_order_products['add_to_cart_order'] = df_order_products['add_to_cart_order'].astype('int')\n",
    "print(df_order_products)\n",
    "print()\n",
    "df_order_products.info()"
   ]
  },
  {
   "cell_type": "markdown",
   "id": "c88e23ae-ed28-47d1-8bba-88b0ac674114",
   "metadata": {},
   "source": [
    "# Análise de dados"
   ]
  },
  {
   "cell_type": "markdown",
   "id": "779f2986-aa3d-4bfc-81a8-7123af9c56b7",
   "metadata": {},
   "source": [
    "<span style=\"color: blue; font-family: Arial; font-size: 20px;\">\n",
    "Verifique se os valores nas colunas 'order_hour_of_day' e 'order_dow' na tabela orders fazem sentido (ou seja, os valores da coluna 'order_hour_of_day' variam de 0 a 23 e os da 'order_dow' variam de 0 a 6)."
   ]
  },
  {
   "cell_type": "code",
   "execution_count": 51,
   "id": "fbc944d8-acf3-415a-a7ee-fc8e03de8eae",
   "metadata": {},
   "outputs": [
    {
     "data": {
      "text/plain": [
       "<Axes: title={'center': 'Pedidos a cada hora do dia'}, ylabel='Frequency'>"
      ]
     },
     "execution_count": 51,
     "metadata": {},
     "output_type": "execute_result"
    },
    {
     "data": {
      "image/png": "[encoded data removed]",
      "text/plain": [
       "<Figure size 1200x800 with 1 Axes>"
      ]
     },
     "metadata": {},
     "output_type": "display_data"
    }
   ],
   "source": [
    "df_orders['order_hour_of_day'].plot.hist(title='Pedidos a cada hora do dia', figsize=[12, 8], bins=24, xticks=list(range(0,24)))"
   ]
  },
  {
   "cell_type": "code",
   "execution_count": 52,
   "id": "a70a81bc-f34a-47a3-90e8-5d95ba5a124a",
   "metadata": {},
   "outputs": [
    {
     "data": {
      "text/plain": [
       "<Axes: title={'center': 'Pedidos a cada dia da semana'}, ylabel='Frequency'>"
      ]
     },
     "execution_count": 52,
     "metadata": {},
     "output_type": "execute_result"
    },
    {
     "data": {
      "image/png": "[encoded data removed]",
      "text/plain": [
       "<Figure size 1200x800 with 1 Axes>"
      ]
     },
     "metadata": {},
     "output_type": "display_data"
    }
   ],
   "source": [
    "df_orders['order_dow'].plot.hist(title='Pedidos a cada dia da semana', figsize=[12, 8], bins=7, xticks=list(range(0,7)))"
   ]
  },
  {
   "cell_type": "markdown",
   "id": "8e247d58-d77c-4279-a77b-a94b6c3223c7",
   "metadata": {},
   "source": [
    "<span style=\"color: black; font-family: Arial; font-size: 20px;\">\n",
    "Sim, os valores nas colunas 'order_hour_of_day' e 'order_dow' fazem sentido porque terminam em 24 e 6, respectivamente."
   ]
  },
  {
   "cell_type": "markdown",
   "id": "ae760ea9-cae2-4c86-9018-be6e795ae88e",
   "metadata": {},
   "source": [
    "<span style=\"color: blue; font-family: Arial; font-size: 20px;\">\n",
    "Quantas pessoas fazem pedidos a cada hora do dia?"
   ]
  },
  {
   "cell_type": "code",
   "execution_count": 55,
   "id": "722e5be8-ad42-44ca-befd-19d4b40aa4aa",
   "metadata": {},
   "outputs": [
    {
     "data": {
      "image/png": "[encoded data removed]",
      "text/plain": [
       "<Figure size 1200x600 with 1 Axes>"
      ]
     },
     "metadata": {},
     "output_type": "display_data"
    }
   ],
   "source": [
    "users_per_hour = df_orders.groupby('order_hour_of_day')['user_id'].nunique().reset_index()\n",
    "plt.figure(figsize=(12,6))\n",
    "sns.barplot(x='order_hour_of_day', y= 'user_id', data=users_per_hour)\n",
    "plt.xlabel('Hora do dia')\n",
    "plt.ylabel('número de usuários')\n",
    "plt.title('Quantidade de pessoas que fazem pedidos a cada hora')\n",
    "plt.show()"
   ]
  },
  {
   "cell_type": "markdown",
   "id": "77442cef-e583-4841-bf0d-6cdcb7358aa2",
   "metadata": {},
   "source": [
    "<span style=\"color: black; font-family: Arial; font-size: 20px;\">\n",
    "No horário de pico, que é das 10h até as 16h, aproximadamente 30.000 pessoas fazem pedidos"
   ]
  },
  {
   "cell_type": "markdown",
   "id": "cbbf5d6a-0da7-438b-b421-9cb17d5b73dc",
   "metadata": {},
   "source": [
    "<span style=\"color: blue; font-family: Arial; font-size: 20px;\">\n",
    "Em que dia da semana as pessoas compram produtos alimentícios?"
   ]
  },
  {
   "cell_type": "code",
   "execution_count": 58,
   "id": "eac6d7a1-96f2-4ad6-a2fb-76dc82e9a536",
   "metadata": {},
   "outputs": [
    {
     "data": {
      "image/png": "[encoded data removed]",
      "text/plain": [
       "<Figure size 1200x600 with 1 Axes>"
      ]
     },
     "metadata": {},
     "output_type": "display_data"
    }
   ],
   "source": [
    "week_day = df_orders.groupby('order_dow')['user_id'].nunique().reset_index()\n",
    "plt.figure(figsize=(12,6))\n",
    "sns.barplot(x='order_dow', y= 'user_id', data=week_day, hue='order_dow', palette='Set2', legend=False)\n",
    "plt.xlabel('dia da semana')\n",
    "plt.ylabel('número de usuários')\n",
    "plt.title('Produtos comprados nos dias da semana')\n",
    "plt.show()"
   ]
  },
  {
   "cell_type": "markdown",
   "id": "c7092c50-586b-4245-86ed-15500bbec0db",
   "metadata": {},
   "source": [
    "<span style=\"color: black; font-family: Arial; font-size: 20px;\">\n",
    "As pessoas compram produtos alimenticios todos os dias, mas domingo é o dia que tem mais pessoas comprando."
   ]
  },
  {
   "cell_type": "markdown",
   "id": "3c04971b-e54f-48c5-875f-dc6528aac10e",
   "metadata": {},
   "source": [
    "<span style=\"color: blue; font-family: Arial; font-size: 20px;\">\n",
    "Quanto tempo as pessoas esperam até fazer outro pedido?"
   ]
  },
  {
   "cell_type": "code",
   "execution_count": 61,
   "id": "4b27f58e-bf45-4b96-9b98-3572a610c344",
   "metadata": {},
   "outputs": [
    {
     "data": {
      "image/png": "[encoded data removed]",
      "text/plain": [
       "<Figure size 1200x600 with 1 Axes>"
      ]
     },
     "metadata": {},
     "output_type": "display_data"
    }
   ],
   "source": [
    "waiting_days = df_orders.groupby('days_since_prior_order')['user_id'].nunique().reset_index() \n",
    "plt.figure(figsize=(12,6))\n",
    "sns.barplot(x='days_since_prior_order', y= 'user_id', data=waiting_days)\n",
    "plt.xlabel('dias passados desde o último pedido')\n",
    "plt.ylabel('número de usuários')\n",
    "plt.title('Tempo total que pessoas esperam até fazer outro pedido')\n",
    "plt.show()"
   ]
  },
  {
   "cell_type": "markdown",
   "id": "28ccbd40-7226-4851-8c42-5a5b53939fb7",
   "metadata": {},
   "source": [
    "<span style=\"color: black; font-family: Arial; font-size: 20px;\">\n",
    "A maioria dos usuários levam 30 dias para fazer outro pedido."
   ]
  },
  {
   "cell_type": "markdown",
   "id": "67ade312-0819-4c83-a74c-75dd15fd1e26",
   "metadata": {},
   "source": [
    "<span style=\"color: blue; font-family: Arial; font-size: 20px;\">\n",
    "Quais as diferenças nas quartas e sábados em 'order_hour_of_day'?"
   ]
  },
  {
   "cell_type": "code",
   "execution_count": 64,
   "id": "415f84d1-ae92-4e7c-a927-f6880e1565a9",
   "metadata": {},
   "outputs": [
    {
     "data": {
      "image/png": "[encoded data removed]",
      "text/plain": [
       "<Figure size 1200x600 with 2 Axes>"
      ]
     },
     "metadata": {},
     "output_type": "display_data"
    }
   ],
   "source": [
    "# Selecionando as quartas e sábados\n",
    "wed_orders = df_orders[df_orders['order_dow'] == 3]\n",
    "sat_orders = df_orders[df_orders['order_dow'] == 6]\n",
    "\n",
    "plt.figure(figsize=(12,6))\n",
    "\n",
    "#gráfico quarta-feira\n",
    "plt.subplot(1, 2, 1)\n",
    "wed_orders['order_hour_of_day'].value_counts().sort_index().plot(kind='bar')\n",
    "plt.title('Distribuição das horas de pedido - Quarta-feira')\n",
    "plt.xlabel('Hora do dia')\n",
    "plt.ylabel('Número de pedidos')\n",
    "plt.xticks(rotation=0)\n",
    "\n",
    "#gráfico sábado\n",
    "plt.subplot(1, 2, 2)\n",
    "sat_orders['order_hour_of_day'].value_counts().sort_index().plot(kind='bar')\n",
    "plt.title('Distribuição das horas de pedido - Sábado')\n",
    "plt.xlabel('Hora do dia')\n",
    "plt.ylabel('Número de pedidos')\n",
    "plt.xticks(rotation=0)\n",
    "\n",
    "plt.tight_layout()\n",
    "plt.show()"
   ]
  },
  {
   "cell_type": "markdown",
   "id": "e38287bf-16a6-4644-8825-b8cdc4f80a78",
   "metadata": {},
   "source": [
    "<span style=\"color: black; font-family: Arial; font-size: 20px;\">\n",
    "Através da análise, é possível notar que os horários de pico (das 9h até as 17h) e os horários com menos pedidos (da meia noite até as 6h) são bem parecidos em ambos os dias."
   ]
  },
  {
   "cell_type": "markdown",
   "id": "7bfddcd0-ad0d-4d1d-b81e-6c2649a1f0bc",
   "metadata": {},
   "source": [
    "<span style=\"color: blue; font-family: Arial; font-size: 20px;\">\n",
    "Qual é a distribuição do número de pedidos por cliente?"
   ]
  },
  {
   "cell_type": "code",
   "execution_count": 67,
   "id": "ec9ed778-7a99-492c-8356-a12a8f93fa5a",
   "metadata": {},
   "outputs": [
    {
     "data": {
      "image/png": "[encoded data removed]",
      "text/plain": [
       "<Figure size 1200x600 with 1 Axes>"
      ]
     },
     "metadata": {},
     "output_type": "display_data"
    }
   ],
   "source": [
    "# pedidos feitos por cliente\n",
    "orders_per_user = df_orders.groupby('user_id')['order_id'].nunique()\n",
    "\n",
    "# clientes que fizeram o mesmo número de pedidos\n",
    "order_distribution = orders_per_user.value_counts().sort_index()\n",
    "\n",
    "plt.figure(figsize=(12,6))\n",
    "order_distribution.plot(kind='bar')\n",
    "plt.title('Distribuição do número de pedidos por cliente')\n",
    "plt.xlabel('Número de pedidos')\n",
    "plt.ylabel('Número de clientes')\n",
    "plt.xticks(rotation=0)\n",
    "\n",
    "plt.show()"
   ]
  },
  {
   "cell_type": "markdown",
   "id": "63ddaf2e-b994-4b53-8c99-a28be25b47ba",
   "metadata": {},
   "source": [
    "<span style=\"color: black; font-family: Arial; font-size: 20px;\">\n",
    "Através da análise é possível notar que a maioria dos clientes fez apenas um pedido, e que o número de pedidos por pessoa cai à medida que vai aumentando."
   ]
  },
  {
   "cell_type": "markdown",
   "id": "cc66f96a-3e29-456b-85d9-8f43fa40475c",
   "metadata": {},
   "source": [
    "<span style=\"color: blue; font-family: Arial; font-size: 20px;\">\n",
    "Quais são os 20 produtos mais populares? Exiba os IDs e nomes."
   ]
  },
  {
   "cell_type": "code",
   "execution_count": 70,
   "id": "69d369a0-c5ac-426d-91dd-a0f4746d1594",
   "metadata": {},
   "outputs": [
    {
     "data": {
      "text/html": [
       "<div>\n",
       "<style scoped>\n",
       "    .dataframe tbody tr th:only-of-type {\n",
       "        vertical-align: middle;\n",
       "    }\n",
       "\n",
       "    .dataframe tbody tr th {\n",
       "        vertical-align: top;\n",
       "    }\n",
       "\n",
       "    .dataframe thead th {\n",
       "        text-align: right;\n",
       "    }\n",
       "</style>\n",
       "<table border=\"1\" class=\"dataframe\">\n",
       "  <thead>\n",
       "    <tr style=\"text-align: right;\">\n",
       "      <th></th>\n",
       "      <th>order_id</th>\n",
       "      <th>product_id</th>\n",
       "      <th>add_to_cart_order</th>\n",
       "      <th>reordered</th>\n",
       "      <th>product_name</th>\n",
       "    </tr>\n",
       "  </thead>\n",
       "  <tbody>\n",
       "    <tr>\n",
       "      <th>0</th>\n",
       "      <td>2141543</td>\n",
       "      <td>11440</td>\n",
       "      <td>17</td>\n",
       "      <td>0</td>\n",
       "      <td>Chicken Breast Tenders Breaded</td>\n",
       "    </tr>\n",
       "    <tr>\n",
       "      <th>1</th>\n",
       "      <td>567889</td>\n",
       "      <td>1560</td>\n",
       "      <td>1</td>\n",
       "      <td>1</td>\n",
       "      <td>Bag Of Ice</td>\n",
       "    </tr>\n",
       "    <tr>\n",
       "      <th>2</th>\n",
       "      <td>2261212</td>\n",
       "      <td>26683</td>\n",
       "      <td>1</td>\n",
       "      <td>1</td>\n",
       "      <td>Cafe Latte Pure Lightly Sweetened Iced Coffee ...</td>\n",
       "    </tr>\n",
       "    <tr>\n",
       "      <th>3</th>\n",
       "      <td>491251</td>\n",
       "      <td>8670</td>\n",
       "      <td>35</td>\n",
       "      <td>1</td>\n",
       "      <td>Diced Tomatoes</td>\n",
       "    </tr>\n",
       "    <tr>\n",
       "      <th>4</th>\n",
       "      <td>2571142</td>\n",
       "      <td>1940</td>\n",
       "      <td>5</td>\n",
       "      <td>1</td>\n",
       "      <td>Organic 2% Reduced Fat Milk</td>\n",
       "    </tr>\n",
       "  </tbody>\n",
       "</table>\n",
       "</div>"
      ],
      "text/plain": [
       "   order_id  product_id  add_to_cart_order  reordered  \\\n",
       "0   2141543       11440                 17          0   \n",
       "1    567889        1560                  1          1   \n",
       "2   2261212       26683                  1          1   \n",
       "3    491251        8670                 35          1   \n",
       "4   2571142        1940                  5          1   \n",
       "\n",
       "                                        product_name  \n",
       "0                     Chicken Breast Tenders Breaded  \n",
       "1                                         Bag Of Ice  \n",
       "2  Cafe Latte Pure Lightly Sweetened Iced Coffee ...  \n",
       "3                                     Diced Tomatoes  \n",
       "4                        Organic 2% Reduced Fat Milk  "
      ]
     },
     "execution_count": 70,
     "metadata": {},
     "output_type": "execute_result"
    }
   ],
   "source": [
    "frequency_products = pd.merge(df_order_products, df_products[['product_id', 'product_name']])\n",
    "frequency_products.head()"
   ]
  },
  {
   "cell_type": "code",
   "execution_count": 71,
   "id": "6a35f9f1-e395-4fc2-b86d-0e8bdc939973",
   "metadata": {},
   "outputs": [
    {
     "data": {
      "text/html": [
       "<div>\n",
       "<style scoped>\n",
       "    .dataframe tbody tr th:only-of-type {\n",
       "        vertical-align: middle;\n",
       "    }\n",
       "\n",
       "    .dataframe tbody tr th {\n",
       "        vertical-align: top;\n",
       "    }\n",
       "\n",
       "    .dataframe thead th {\n",
       "        text-align: right;\n",
       "    }\n",
       "</style>\n",
       "<table border=\"1\" class=\"dataframe\">\n",
       "  <thead>\n",
       "    <tr style=\"text-align: right;\">\n",
       "      <th></th>\n",
       "      <th></th>\n",
       "      <th>order_id</th>\n",
       "      <th>add_to_cart_order</th>\n",
       "      <th>reordered</th>\n",
       "    </tr>\n",
       "    <tr>\n",
       "      <th>product_id</th>\n",
       "      <th>product_name</th>\n",
       "      <th></th>\n",
       "      <th></th>\n",
       "      <th></th>\n",
       "    </tr>\n",
       "  </thead>\n",
       "  <tbody>\n",
       "    <tr>\n",
       "      <th>24852</th>\n",
       "      <th>Banana</th>\n",
       "      <td>66050</td>\n",
       "      <td>66050</td>\n",
       "      <td>66050</td>\n",
       "    </tr>\n",
       "    <tr>\n",
       "      <th>13176</th>\n",
       "      <th>Bag of Organic Bananas</th>\n",
       "      <td>53297</td>\n",
       "      <td>53297</td>\n",
       "      <td>53297</td>\n",
       "    </tr>\n",
       "    <tr>\n",
       "      <th>21137</th>\n",
       "      <th>Organic Strawberries</th>\n",
       "      <td>37039</td>\n",
       "      <td>37039</td>\n",
       "      <td>37039</td>\n",
       "    </tr>\n",
       "    <tr>\n",
       "      <th>21903</th>\n",
       "      <th>Organic Baby Spinach</th>\n",
       "      <td>33971</td>\n",
       "      <td>33971</td>\n",
       "      <td>33971</td>\n",
       "    </tr>\n",
       "    <tr>\n",
       "      <th>47209</th>\n",
       "      <th>Organic Hass Avocado</th>\n",
       "      <td>29773</td>\n",
       "      <td>29773</td>\n",
       "      <td>29773</td>\n",
       "    </tr>\n",
       "    <tr>\n",
       "      <th>47766</th>\n",
       "      <th>Organic Avocado</th>\n",
       "      <td>24689</td>\n",
       "      <td>24689</td>\n",
       "      <td>24689</td>\n",
       "    </tr>\n",
       "    <tr>\n",
       "      <th>47626</th>\n",
       "      <th>Large Lemon</th>\n",
       "      <td>21495</td>\n",
       "      <td>21495</td>\n",
       "      <td>21495</td>\n",
       "    </tr>\n",
       "    <tr>\n",
       "      <th>16797</th>\n",
       "      <th>Strawberries</th>\n",
       "      <td>20018</td>\n",
       "      <td>20018</td>\n",
       "      <td>20018</td>\n",
       "    </tr>\n",
       "    <tr>\n",
       "      <th>26209</th>\n",
       "      <th>Limes</th>\n",
       "      <td>19690</td>\n",
       "      <td>19690</td>\n",
       "      <td>19690</td>\n",
       "    </tr>\n",
       "    <tr>\n",
       "      <th>27845</th>\n",
       "      <th>Organic Whole Milk</th>\n",
       "      <td>19600</td>\n",
       "      <td>19600</td>\n",
       "      <td>19600</td>\n",
       "    </tr>\n",
       "    <tr>\n",
       "      <th>27966</th>\n",
       "      <th>Organic Raspberries</th>\n",
       "      <td>19197</td>\n",
       "      <td>19197</td>\n",
       "      <td>19197</td>\n",
       "    </tr>\n",
       "    <tr>\n",
       "      <th>22935</th>\n",
       "      <th>Organic Yellow Onion</th>\n",
       "      <td>15898</td>\n",
       "      <td>15898</td>\n",
       "      <td>15898</td>\n",
       "    </tr>\n",
       "    <tr>\n",
       "      <th>24964</th>\n",
       "      <th>Organic Garlic</th>\n",
       "      <td>15292</td>\n",
       "      <td>15292</td>\n",
       "      <td>15292</td>\n",
       "    </tr>\n",
       "    <tr>\n",
       "      <th>45007</th>\n",
       "      <th>Organic Zucchini</th>\n",
       "      <td>14584</td>\n",
       "      <td>14584</td>\n",
       "      <td>14584</td>\n",
       "    </tr>\n",
       "    <tr>\n",
       "      <th>39275</th>\n",
       "      <th>Organic Blueberries</th>\n",
       "      <td>13879</td>\n",
       "      <td>13879</td>\n",
       "      <td>13879</td>\n",
       "    </tr>\n",
       "    <tr>\n",
       "      <th>49683</th>\n",
       "      <th>Cucumber Kirby</th>\n",
       "      <td>13675</td>\n",
       "      <td>13675</td>\n",
       "      <td>13675</td>\n",
       "    </tr>\n",
       "    <tr>\n",
       "      <th>28204</th>\n",
       "      <th>Organic Fuji Apple</th>\n",
       "      <td>12544</td>\n",
       "      <td>12544</td>\n",
       "      <td>12544</td>\n",
       "    </tr>\n",
       "    <tr>\n",
       "      <th>5876</th>\n",
       "      <th>Organic Lemon</th>\n",
       "      <td>12232</td>\n",
       "      <td>12232</td>\n",
       "      <td>12232</td>\n",
       "    </tr>\n",
       "    <tr>\n",
       "      <th>8277</th>\n",
       "      <th>Apple Honeycrisp Organic</th>\n",
       "      <td>11993</td>\n",
       "      <td>11993</td>\n",
       "      <td>11993</td>\n",
       "    </tr>\n",
       "    <tr>\n",
       "      <th>40706</th>\n",
       "      <th>Organic Grape Tomatoes</th>\n",
       "      <td>11781</td>\n",
       "      <td>11781</td>\n",
       "      <td>11781</td>\n",
       "    </tr>\n",
       "  </tbody>\n",
       "</table>\n",
       "</div>"
      ],
      "text/plain": [
       "                                     order_id  add_to_cart_order  reordered\n",
       "product_id product_name                                                    \n",
       "24852      Banana                       66050              66050      66050\n",
       "13176      Bag of Organic Bananas       53297              53297      53297\n",
       "21137      Organic Strawberries         37039              37039      37039\n",
       "21903      Organic Baby Spinach         33971              33971      33971\n",
       "47209      Organic Hass Avocado         29773              29773      29773\n",
       "47766      Organic Avocado              24689              24689      24689\n",
       "47626      Large Lemon                  21495              21495      21495\n",
       "16797      Strawberries                 20018              20018      20018\n",
       "26209      Limes                        19690              19690      19690\n",
       "27845      Organic Whole Milk           19600              19600      19600\n",
       "27966      Organic Raspberries          19197              19197      19197\n",
       "22935      Organic Yellow Onion         15898              15898      15898\n",
       "24964      Organic Garlic               15292              15292      15292\n",
       "45007      Organic Zucchini             14584              14584      14584\n",
       "39275      Organic Blueberries          13879              13879      13879\n",
       "49683      Cucumber Kirby               13675              13675      13675\n",
       "28204      Organic Fuji Apple           12544              12544      12544\n",
       "5876       Organic Lemon                12232              12232      12232\n",
       "8277       Apple Honeycrisp Organic     11993              11993      11993\n",
       "40706      Organic Grape Tomatoes       11781              11781      11781"
      ]
     },
     "execution_count": 71,
     "metadata": {},
     "output_type": "execute_result"
    }
   ],
   "source": [
    "top_products = frequency_products.groupby(['product_id', 'product_name']).count().sort_values(['order_id'], ascending=False)\n",
    "top_products.head(20)"
   ]
  },
  {
   "cell_type": "markdown",
   "id": "e524d9df-e19b-4b51-85b9-98ae4c65fea4",
   "metadata": {},
   "source": [
    "<span style=\"color: blue; font-family: Arial; font-size: 20px;\">\n",
    "Quantos itens as pessoas normalmente compram em um pedido? Como fica a distribuição?"
   ]
  },
  {
   "cell_type": "code",
   "execution_count": 73,
   "id": "0bef0c81-4d32-4d24-b6f0-ec9ae3487336",
   "metadata": {},
   "outputs": [
    {
     "name": "stdout",
     "output_type": "stream",
     "text": [
      "Média de itens por pedido: 10.10\n"
     ]
    },
    {
     "data": {
      "image/png": "[encoded data removed]",
      "text/plain": [
       "<Figure size 1200x600 with 1 Axes>"
      ]
     },
     "metadata": {},
     "output_type": "display_data"
    }
   ],
   "source": [
    "# contando número de itens por pedido\n",
    "items_per_order = df_order_products.groupby('order_id')['product_id'].count()\n",
    "\n",
    "# calculando a média do numero de itens por pedido\n",
    "average_itens_per_order = items_per_order.mean()\n",
    "print(f'Média de itens por pedido: {average_itens_per_order:.2f}')\n",
    "\n",
    "plt.figure(figsize=(12,6))\n",
    "items_per_order.plot(kind='hist', bins=50)\n",
    "plt.title('Distribuição do número de itens por pedido')\n",
    "plt.xlabel('Número de itens por pedido')\n",
    "plt.ylabel('Frequência')\n",
    "plt.grid(True)\n",
    "\n",
    "plt.show()"
   ]
  },
  {
   "cell_type": "markdown",
   "id": "44ad50d8-058f-4c50-aecc-dd921ad788f4",
   "metadata": {},
   "source": [
    "<span style=\"color: black; font-family: Arial; font-size: 20px;\">\n",
    "As pessoas compram em média 10 produtos por pedido."
   ]
  },
  {
   "cell_type": "markdown",
   "id": "22331dff-390c-47d1-8368-518d54b8d068",
   "metadata": {},
   "source": [
    "<span style=\"color: blue; font-family: Arial; font-size: 20px;\">\n",
    "Quais são os 20 principais itens incluídos com mais frequência em pedidos repetidos? Exiba os IDs e nomes."
   ]
  },
  {
   "cell_type": "code",
   "execution_count": 76,
   "id": "e9e73d63-d2e1-4764-a0df-20310357992e",
   "metadata": {},
   "outputs": [
    {
     "data": {
      "text/html": [
       "<div>\n",
       "<style scoped>\n",
       "    .dataframe tbody tr th:only-of-type {\n",
       "        vertical-align: middle;\n",
       "    }\n",
       "\n",
       "    .dataframe tbody tr th {\n",
       "        vertical-align: top;\n",
       "    }\n",
       "\n",
       "    .dataframe thead th {\n",
       "        text-align: right;\n",
       "    }\n",
       "</style>\n",
       "<table border=\"1\" class=\"dataframe\">\n",
       "  <thead>\n",
       "    <tr style=\"text-align: right;\">\n",
       "      <th></th>\n",
       "      <th>order_id</th>\n",
       "      <th>product_id</th>\n",
       "      <th>add_to_cart_order</th>\n",
       "      <th>reordered</th>\n",
       "    </tr>\n",
       "  </thead>\n",
       "  <tbody>\n",
       "    <tr>\n",
       "      <th>1</th>\n",
       "      <td>567889</td>\n",
       "      <td>1560</td>\n",
       "      <td>1</td>\n",
       "      <td>1</td>\n",
       "    </tr>\n",
       "    <tr>\n",
       "      <th>2</th>\n",
       "      <td>2261212</td>\n",
       "      <td>26683</td>\n",
       "      <td>1</td>\n",
       "      <td>1</td>\n",
       "    </tr>\n",
       "    <tr>\n",
       "      <th>3</th>\n",
       "      <td>491251</td>\n",
       "      <td>8670</td>\n",
       "      <td>35</td>\n",
       "      <td>1</td>\n",
       "    </tr>\n",
       "    <tr>\n",
       "      <th>4</th>\n",
       "      <td>2571142</td>\n",
       "      <td>1940</td>\n",
       "      <td>5</td>\n",
       "      <td>1</td>\n",
       "    </tr>\n",
       "    <tr>\n",
       "      <th>5</th>\n",
       "      <td>2456893</td>\n",
       "      <td>21616</td>\n",
       "      <td>4</td>\n",
       "      <td>1</td>\n",
       "    </tr>\n",
       "  </tbody>\n",
       "</table>\n",
       "</div>"
      ],
      "text/plain": [
       "   order_id  product_id  add_to_cart_order  reordered\n",
       "1    567889        1560                  1          1\n",
       "2   2261212       26683                  1          1\n",
       "3    491251        8670                 35          1\n",
       "4   2571142        1940                  5          1\n",
       "5   2456893       21616                  4          1"
      ]
     },
     "execution_count": 76,
     "metadata": {},
     "output_type": "execute_result"
    }
   ],
   "source": [
    "reorder_products = df_order_products[df_order_products['reordered'] == 1]\n",
    "reorder_products.head()"
   ]
  },
  {
   "cell_type": "code",
   "execution_count": 77,
   "id": "c3ee5a47-4c15-4ca5-b262-2086382ba82c",
   "metadata": {},
   "outputs": [],
   "source": [
    "produtos_regulares = pd.merge(reorder_products, df_products[['product_id', 'product_name']])"
   ]
  },
  {
   "cell_type": "code",
   "execution_count": 78,
   "id": "6581f166-9bab-4f92-a9ff-fcf88d90dfd8",
   "metadata": {},
   "outputs": [
    {
     "data": {
      "text/plain": [
       "product_id  product_name            \n",
       "24852       Banana                      55763\n",
       "13176       Bag of Organic Bananas      44450\n",
       "21137       Organic Strawberries        28639\n",
       "21903       Organic Baby Spinach        26233\n",
       "47209       Organic Hass Avocado        23629\n",
       "47766       Organic Avocado             18743\n",
       "27845       Organic Whole Milk          16251\n",
       "47626       Large Lemon                 15044\n",
       "27966       Organic Raspberries         14748\n",
       "16797       Strawberries                13945\n",
       "26209       Limes                       13327\n",
       "22935       Organic Yellow Onion        11145\n",
       "24964       Organic Garlic              10411\n",
       "45007       Organic Zucchini            10076\n",
       "49683       Cucumber Kirby               9538\n",
       "28204       Organic Fuji Apple           8989\n",
       "8277        Apple Honeycrisp Organic     8836\n",
       "39275       Organic Blueberries          8799\n",
       "5876        Organic Lemon                8412\n",
       "49235       Organic Half & Half          8389\n",
       "dtype: int64"
      ]
     },
     "execution_count": 78,
     "metadata": {},
     "output_type": "execute_result"
    }
   ],
   "source": [
    "top_reordered_products = produtos_regulares.groupby(['product_id', 'product_name']).size().sort_values(ascending=False)\n",
    "top_reordered_products.head(20)"
   ]
  },
  {
   "cell_type": "markdown",
   "id": "004af925-76ac-42cc-b9fa-f8fdf6110a54",
   "metadata": {},
   "source": [
    "<span style=\"color: black; font-family: Arial; font-size: 20px;\">\n",
    "Acima estão os 20 principais itens incluídos com mais frequência em pedidos repetidos, destacando-se a banana com 55763 pedidos."
   ]
  },
  {
   "cell_type": "markdown",
   "id": "10ed5bca-f587-4d2c-a817-767a9c1feb06",
   "metadata": {},
   "source": [
    "# Conclusões e recomendações"
   ]
  },
  {
   "cell_type": "markdown",
   "id": "5e3bbaad-1e93-4483-bf3f-a40d25b7e398",
   "metadata": {},
   "source": [
    "<span style=\"color: black; font-family: Arial; font-size: 20px;\">\n",
    "A análise revelou padrões consistentes de comportamento de compra e consumo ao longo do tempo.\n",
    "\n",
    "    \n",
    "- O maior volume de pedidos ocorre em horários de pico entre 9h e 17h, sendo que o período de 10h a 16h concentra cerca de 30 mil pedidos.\n",
    "    \n",
    "- Alimentos são comprados diariamente, com pico de vendas aos domingos.\n",
    "  \n",
    "- O ciclo médio de recompra é de 30 dias, porém a maior parte dos clientes realiza apenas uma compra.\n",
    "\n",
    "- Em média, cada pedido contém cerca de 10 itens, com destaque para a banana, que lidera o ranking de itens mais recorrentes em pedidos repetidos (55.763 ocorrências)."
   ]
  },
  {
   "cell_type": "markdown",
   "id": "b7793f55-542d-4a6a-a3c1-e4a5d1f3db42",
   "metadata": {},
   "source": [
    "<span style=\"color: black; font-family: Arial; font-size: 20px;\">\n",
    "Como recomendações, destacam-se:\n",
    "    \n",
    "1. **Aproveitar o horário de pico**  \n",
    "   - Reforçar campanhas de marketing e promoções entre 9h e 17h, principalmente de 10h a 16h, para aumentar a conversão.  \n",
    "\n",
    "2. **Explorar o pico de vendas aos domingos**  \n",
    "   - Criar ofertas para o fim de semana, especialmente para domingo.  \n",
    "   - Planejar equipe e logística para atender à alta demanda.  \n",
    "\n",
    "3. **Estimular recompra antes dos 30 dias**  \n",
    "   - Criar campanhas com ofertas personalizadas para clientes que estão há 20–25 dias sem comprar.  \n",
    "   - Implementar programas de fidelidade para incentivar pedidos mais frequentes.   \n",
    "\n",
    "4. **Aproveitar os produtos mais vendidos**  \n",
    "   - Destacar a banana e outros produtos do top 20 em campanhas, garantindo preços competitivos.  \n",
    "   - Utilizar esses produtos como “porta de entrada” para atrair clientes para outros itens da cesta.  "
   ]
  }
 ],
 "metadata": {
  "kernelspec": {
   "display_name": "Python [conda env:base] *",
   "language": "python",
   "name": "conda-base-py"
  },
  "language_info": {
   "codemirror_mode": {
    "name": "ipython",
    "version": 3
   },
   "file_extension": ".py",
   "mimetype": "text/x-python",
   "name": "python",
   "nbconvert_exporter": "python",
   "pygments_lexer": "ipython3",
   "version": "3.12.7"
  }
 },
 "nbformat": 4,
 "nbformat_minor": 5
}
